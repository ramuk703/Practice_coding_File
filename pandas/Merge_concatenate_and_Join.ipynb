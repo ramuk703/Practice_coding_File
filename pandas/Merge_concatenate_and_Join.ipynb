{
 "cells": [
  {
   "cell_type": "code",
   "execution_count": 9,
   "id": "08e98549-6910-4867-a3d5-d11e085bf981",
   "metadata": {},
   "outputs": [
    {
     "name": "stdout",
     "output_type": "stream",
     "text": [
      "  EMP ID Name of Employee  Age\n",
      "0    E01      Ramuk Kumar   19\n",
      "1    E02      Guddu Kumar   20\n",
      "2    E03     Mukesh Kumar   33\n",
      "3    E04     Sachin Kumar   21\n",
      "4    E05     Rajesh Kumar   43\n",
      "5    E06      Bablu Kumar   34\n",
      "6    E07     Deepak Kumar   33\n",
      "7    E08       Arun Kumar   22\n",
      "\n",
      "  EMP ID  Salary\n",
      "0    E01   34000\n",
      "1    E02   54000\n",
      "2    E03   23000\n",
      "3    E04   55000\n",
      "4    E05   22000\n",
      "5    E06   21000\n",
      "6    E07   20000\n",
      "7    E08   80000\n"
     ]
    }
   ],
   "source": [
    "import pandas as pd\n",
    "data1 = {\"EMP ID\":[\"E01\",\"E02\",\"E03\",\"E04\",\"E05\",\"E06\",\"E07\",\"E08\"],\"Name of Employee\":[\"Ramuk Kumar\",\"Guddu Kumar\",\"Mukesh Kumar\",\n",
    "        \"Sachin Kumar\",\"Rajesh Kumar\",\"Bablu Kumar\",\"Deepak Kumar\",\"Arun Kumar\"],\"Age\":[19,20,33,21,43,34,33,22]}\n",
    "\n",
    "data2 ={\"EMP ID\":[\"E01\",\"E02\",\"E03\",\"E04\",\"E05\",\"E06\",\"E07\",\"E08\"],\"Salary\":[34000,54000,23000,55000,22000,21000,20000,80000]}\n",
    "df1 = pd.DataFrame(data1)\n",
    "df2 = pd.DataFrame(data2)\n",
    "print(df1)\n",
    "print()\n",
    "print(df2)"
   ]
  },
  {
   "cell_type": "code",
   "execution_count": 11,
   "id": "6daa01c5-6036-4c6c-a97f-bfa4ab864c29",
   "metadata": {},
   "outputs": [
    {
     "name": "stdout",
     "output_type": "stream",
     "text": [
      "  EMP ID Name of Employee  Age  Salary\n",
      "0    E01      Ramuk Kumar   19   34000\n",
      "1    E02      Guddu Kumar   20   54000\n",
      "2    E03     Mukesh Kumar   33   23000\n",
      "3    E04     Sachin Kumar   21   55000\n",
      "4    E05     Rajesh Kumar   43   22000\n",
      "5    E06      Bablu Kumar   34   21000\n",
      "6    E07     Deepak Kumar   33   20000\n",
      "7    E08       Arun Kumar   22   80000\n"
     ]
    }
   ],
   "source": [
    "print(pd.merge(df1,df2,on=\"EMP ID\"))"
   ]
  },
  {
   "cell_type": "code",
   "execution_count": 21,
   "id": "aa89194b-c7a4-466d-a630-ee75124530d4",
   "metadata": {},
   "outputs": [
    {
     "name": "stdout",
     "output_type": "stream",
     "text": [
      "  EMP ID Name of Employee  Age\n",
      "0    E01      Ramuk Kumar   19\n",
      "1    E02      Guddu Kumar   20\n",
      "2    E03     Mukesh Kumar   33\n",
      "3    E04     Sachin Kumar   21\n",
      "4    E05     Rajesh Kumar   43\n",
      "5    E06      Bablu Kumar   34\n",
      "0    E07      Rahul Kumar   20\n",
      "1    E08       Jitu Kumar   45\n",
      "2    E09      Niraj Kumar   12\n",
      "3    E10     Manish Kumar   25\n",
      "4    E11     Mahesh Kumar   27\n",
      "5    E12     Lakhan Kumar   29\n"
     ]
    }
   ],
   "source": [
    "data1 = {\"EMP ID\":[\"E01\",\"E02\",\"E03\",\"E04\",\"E05\",\"E06\"]\n",
    "        ,\"Name of Employee\":[\"Ramuk Kumar\",\"Guddu Kumar\",\"Mukesh Kumar\",\n",
    "        \"Sachin Kumar\",\"Rajesh Kumar\",\"Bablu Kumar\"],\"Age\":[19,20,33,21,43,34]}\n",
    "\n",
    "data2 = {\"EMP ID\":[\"E07\",\"E08\",\"E09\",\"E10\",\"E11\",\"E12\"]\n",
    "        ,\"Name of Employee\":[\"Rahul Kumar\",\"Jitu Kumar\",\"Niraj Kumar\",\n",
    "        \"Manish Kumar\",\"Mahesh Kumar\",\"Lakhan Kumar\"],\"Age\":[20,45,12,25,27,29]}\n",
    "df1 = pd.DataFrame(data1)\n",
    "df2 = pd.DataFrame(data2)\n",
    "print(pd.concat([df1,df2]))\n",
    "# print(pd.concat([data1,data2]))"
   ]
  }
 ],
 "metadata": {
  "kernelspec": {
   "display_name": "Python 3 (ipykernel)",
   "language": "python",
   "name": "python3"
  },
  "language_info": {
   "codemirror_mode": {
    "name": "ipython",
    "version": 3
   },
   "file_extension": ".py",
   "mimetype": "text/x-python",
   "name": "python",
   "nbconvert_exporter": "python",
   "pygments_lexer": "ipython3",
   "version": "3.12.4"
  }
 },
 "nbformat": 4,
 "nbformat_minor": 5
}
