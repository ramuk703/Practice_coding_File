{
 "cells": [
  {
   "cell_type": "code",
   "execution_count": null,
   "id": "d79effec-9ef5-46ce-b1ca-212db00d1702",
   "metadata": {},
   "outputs": [],
   "source": []
  }
 ],
 "metadata": {
  "kernelspec": {
   "display_name": "",
   "name": ""
  },
  "language_info": {
   "name": ""
  }
 },
 "nbformat": 4,
 "nbformat_minor": 5
}
