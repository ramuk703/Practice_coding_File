{
 "cells": [
  {
   "cell_type": "code",
   "execution_count": null,
   "id": "e8ac312a-e03d-438c-8a71-4b9a0db80e37",
   "metadata": {},
   "outputs": [],
   "source": []
  }
 ],
 "metadata": {
  "kernelspec": {
   "display_name": "",
   "name": ""
  },
  "language_info": {
   "name": ""
  }
 },
 "nbformat": 4,
 "nbformat_minor": 5
}
