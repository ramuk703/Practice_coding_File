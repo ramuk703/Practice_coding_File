{
 "cells": [
  {
   "cell_type": "code",
   "execution_count": 190,
   "id": "01f21d2b-c65f-4c59-9d2f-5d70ab7f0924",
   "metadata": {},
   "outputs": [
    {
     "name": "stdout",
     "output_type": "stream",
     "text": [
      "   Name of the Student Gender  Age   Salary\n",
      "0          Ramuk Kumar      M   20  16890.0\n",
      "1        Sunita Kumari      F   21      NaN\n",
      "2            Raj Kumar      M   23  17068.0\n",
      "3                Nira       F   24      NaN\n",
      "4         Manish Kumar      M   23  22955.0\n",
      "5          Kunal Kumar    NaN   20  24965.0\n",
      "6          Guddu Kumar    NaN   21  18067.0\n",
      "7         Mukesh Kumar      M   20  17234.0\n",
      "8          Suraj Kumar    NaN   20  16637.0\n",
      "9         Sachin Kumar      M   21  16163.0\n",
      "10        Nidhi Kumari      F   23      NaN\n"
     ]
    }
   ],
   "source": [
    "import pandas as pd\n",
    "data = pd.read_csv(\"C:/Users/91957/OneDrive/Desktop/Handling.csv\")\n",
    "print(data)"
   ]
  },
  {
   "cell_type": "code",
   "execution_count": 196,
   "id": "1cb6f0a8-dc39-4dc9-9216-2eada3780b76",
   "metadata": {},
   "outputs": [
    {
     "name": "stdout",
     "output_type": "stream",
     "text": [
      "Name of the Student    0\n",
      "Gender                 3\n",
      "Age                    0\n",
      "Salary                 3\n",
      "dtype: int64\n"
     ]
    }
   ],
   "source": [
    "print(data.isnull().sum())                                   "
   ]
  },
  {
   "cell_type": "code",
   "execution_count": 210,
   "id": "9e0bcde1-2102-4613-9a8e-4bba06a2d307",
   "metadata": {},
   "outputs": [
    {
     "name": "stdout",
     "output_type": "stream",
     "text": [
      "  Name of the Student Gender  Age   Salary\n",
      "0         Ramuk Kumar      M   20  16890.0\n",
      "2           Raj Kumar      M   23  17068.0\n",
      "4        Manish Kumar      M   23  22955.0\n",
      "7        Mukesh Kumar      M   20  17234.0\n",
      "9        Sachin Kumar      M   21  16163.0\n",
      "\n",
      "  Name of the Student Gender  Age   Salary\n",
      "0         Ramuk Kumar      M   20  16890.0\n",
      "1       Sunita Kumari      F   21      NaN\n",
      "2           Raj Kumar      M   23  17068.0\n",
      "3               Nira       F   24      NaN\n",
      "4        Manish Kumar      M   23  22955.0\n",
      "5         Kunal Kumar    NaN   20  24965.0\n",
      "6         Guddu Kumar    NaN   21  18067.0\n",
      "7        Mukesh Kumar      M   20  17234.0\n",
      "8         Suraj Kumar    NaN   20  16637.0\n",
      "9        Sachin Kumar      M   21  16163.0\n"
     ]
    }
   ],
   "source": [
    "print(data.dropna())\n",
    "print()\n",
    "print(data.head(10))"
   ]
  },
  {
   "cell_type": "code",
   "execution_count": 173,
   "id": "e57b17e2-ac60-4490-8e9c-c2235fc364b1",
   "metadata": {},
   "outputs": [
    {
     "name": "stdout",
     "output_type": "stream",
     "text": [
      "   Name of the Student Gender  Age   Salary\n",
      "0          Ramuk Kumar      M   20  16890.0\n",
      "1        Sunita Kumari      F   21      NaN\n",
      "2            Raj Kumar      M   23  17068.0\n",
      "3                Nira       F   24      NaN\n",
      "4         Manish Kumar      M   23  22955.0\n",
      "5          Kunal Kumar    NaN   20  24965.0\n",
      "6          Guddu Kumar    NaN   21  18067.0\n",
      "7         Mukesh Kumar      M   20  17234.0\n",
      "8          Suraj Kumar    NaN   20  16637.0\n",
      "9         Sachin Kumar      M   21  16163.0\n",
      "10        Nidhi Kumari      F   23      NaN\n"
     ]
    }
   ],
   "source": [
    "print(data)"
   ]
  },
  {
   "cell_type": "code",
   "execution_count": 211,
   "id": "f6f61c8c-4ac7-43be-a760-ad95d8837ad2",
   "metadata": {},
   "outputs": [
    {
     "name": "stdout",
     "output_type": "stream",
     "text": [
      "   Name of the Student Gender  Age   Salary\n",
      "0          Ramuk Kumar      M   20  16890.0\n",
      "1        Sunita Kumari      F   21  20334.0\n",
      "2            Raj Kumar      M   23  17068.0\n",
      "3                Nira       F   24  20334.0\n",
      "4         Manish Kumar      M   23  22955.0\n",
      "5          Kunal Kumar  20334   20  24965.0\n",
      "6          Guddu Kumar  20334   21  18067.0\n",
      "7         Mukesh Kumar      M   20  17234.0\n",
      "8          Suraj Kumar  20334   20  16637.0\n",
      "9         Sachin Kumar      M   21  16163.0\n",
      "10        Nidhi Kumari      F   23  20334.0\n"
     ]
    }
   ],
   "source": [
    "import numpy as np\n",
    "print(data.replace(np.nan,20334))"
   ]
  },
  {
   "cell_type": "code",
   "execution_count": 216,
   "id": "42b8de95-0b1a-4cc9-8f70-b8db77e168af",
   "metadata": {},
   "outputs": [
    {
     "name": "stdout",
     "output_type": "stream",
     "text": [
      "   Name of the Student Gender  Age   Salary\n",
      "0          Ramuk Kumar      M   20  16890.0\n",
      "1        Sunita Kumari      F   21  20334.0\n",
      "2            Raj Kumar      M   23  17068.0\n",
      "3                Nira       F   24  20334.0\n",
      "4         Manish Kumar      M   23  22955.0\n",
      "5          Kunal Kumar    NaN   20  24965.0\n",
      "6          Guddu Kumar    NaN   21  18067.0\n",
      "7         Mukesh Kumar      M   20  17234.0\n",
      "8          Suraj Kumar    NaN   20  16637.0\n",
      "9         Sachin Kumar      M   21  16163.0\n",
      "10        Nidhi Kumari      F   23  20334.0\n",
      "19180.090909090908\n"
     ]
    }
   ],
   "source": [
    "data[\"Salary\"] = data[\"Salary\"].replace(np.nan,20334)\n",
    "print(data)\n",
    "print(data[\"Salary\"].mean())"
   ]
  },
  {
   "cell_type": "code",
   "execution_count": 145,
   "id": "00cbb7e6-2ddf-47e5-89c8-b25189500929",
   "metadata": {},
   "outputs": [
    {
     "name": "stdout",
     "output_type": "stream",
     "text": [
      "20334.18181818182\n"
     ]
    }
   ],
   "source": [
    "print(data[\"Salary\"].mean())"
   ]
  },
  {
   "cell_type": "code",
   "execution_count": 230,
   "id": "24064415-4141-47f5-89d5-83250ccba497",
   "metadata": {},
   "outputs": [
    {
     "name": "stdout",
     "output_type": "stream",
     "text": [
      "   Name of the Student Gender  Age   Salary\n",
      "0          Ramuk Kumar      M   20  16890.0\n",
      "1        Sunita Kumari      F   21  20334.0\n",
      "2            Raj Kumar      M   23  17068.0\n",
      "3                Nira       F   24  20334.0\n",
      "4         Manish Kumar      M   23  22955.0\n",
      "5          Kunal Kumar      M   20  24965.0\n",
      "6          Guddu Kumar      M   21  18067.0\n",
      "7         Mukesh Kumar      M   20  17234.0\n",
      "8          Suraj Kumar      M   20  16637.0\n",
      "9         Sachin Kumar      M   21  16163.0\n",
      "10        Nidhi Kumari      F   23  20334.0\n"
     ]
    },
    {
     "name": "stderr",
     "output_type": "stream",
     "text": [
      "C:\\Users\\91957\\AppData\\Local\\Temp\\ipykernel_24480\\2754045057.py:1: FutureWarning: DataFrame.fillna with 'method' is deprecated and will raise in a future version. Use obj.ffill() or obj.bfill() instead.\n",
      "  print(data.fillna(method = \"bfill\"))\n"
     ]
    }
   ],
   "source": [
    "print(data.fillna(method = \"bfill\"))"
   ]
  },
  {
   "cell_type": "code",
   "execution_count": 231,
   "id": "4ec98451-35da-4cc8-be27-60fdd481e25a",
   "metadata": {},
   "outputs": [
    {
     "name": "stdout",
     "output_type": "stream",
     "text": [
      "   Name of the Student Gender  Age   Salary\n",
      "0          Ramuk Kumar      M   20  16890.0\n",
      "1        Sunita Kumari      F   21  20334.0\n",
      "2            Raj Kumar      M   23  17068.0\n",
      "3                Nira       F   24  20334.0\n",
      "4         Manish Kumar      M   23  22955.0\n",
      "5          Kunal Kumar      M   20  24965.0\n",
      "6          Guddu Kumar      M   21  18067.0\n",
      "7         Mukesh Kumar      M   20  17234.0\n",
      "8          Suraj Kumar      M   20  16637.0\n",
      "9         Sachin Kumar      M   21  16163.0\n",
      "10        Nidhi Kumari      F   23  20334.0\n"
     ]
    },
    {
     "name": "stderr",
     "output_type": "stream",
     "text": [
      "C:\\Users\\91957\\AppData\\Local\\Temp\\ipykernel_24480\\1391920301.py:1: FutureWarning: DataFrame.fillna with 'method' is deprecated and will raise in a future version. Use obj.ffill() or obj.bfill() instead.\n",
      "  print(data.fillna(method = \"ffill\"))\n"
     ]
    }
   ],
   "source": [
    "print(data.fillna(method = \"ffill\"))"
   ]
  },
  {
   "cell_type": "code",
   "execution_count": null,
   "id": "59319f73-9d77-409d-9fe8-52e10031002b",
   "metadata": {},
   "outputs": [],
   "source": []
  }
 ],
 "metadata": {
  "kernelspec": {
   "display_name": "Python 3 (ipykernel)",
   "language": "python",
   "name": "python3"
  },
  "language_info": {
   "codemirror_mode": {
    "name": "ipython",
    "version": 3
   },
   "file_extension": ".py",
   "mimetype": "text/x-python",
   "name": "python",
   "nbconvert_exporter": "python",
   "pygments_lexer": "ipython3",
   "version": "3.12.4"
  }
 },
 "nbformat": 4,
 "nbformat_minor": 5
}
