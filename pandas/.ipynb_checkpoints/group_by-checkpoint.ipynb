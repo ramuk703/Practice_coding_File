{
 "cells": [
  {
   "cell_type": "code",
   "execution_count": 54,
   "id": "8ec535bb-6425-4ce1-a5c5-49bff1633660",
   "metadata": {},
   "outputs": [
    {
     "name": "stdout",
     "output_type": "stream",
     "text": [
      "  First Name  Gender  Start Date Last Login Time  Salary  Bonus %  \\\n",
      "0    Douglas    Male  08-06-1993        12:42 PM   97308    6.945   \n",
      "1     Thomas    Male   3/31/1996         6:53 AM   61933    4.170   \n",
      "2      Maria  Female   4/23/1993        11:17 AM  130590   11.858   \n",
      "3      Jerry    Male  03-04-2005         1:00 PM  138705    9.340   \n",
      "4      Larry    Male   1/24/1998         4:47 PM  101004    1.389   \n",
      "5     Dennis    Male   4/18/1987         1:35 AM  115163   10.125   \n",
      "6       Ruby  Female   8/17/1987         4:20 PM   65476   10.012   \n",
      "7        NaN  Female   7/20/2015        10:43 AM   45906   11.598   \n",
      "8     Angela  Female  11/22/2005         6:29 AM   95570   18.523   \n",
      "9    Frances  Female  08-08-2002         6:51 AM  139852    7.524   \n",
      "\n",
      "  Senior Management                  Team       Country  Age  \n",
      "0              True             Marketing         India   24  \n",
      "1              True                   NaN      Pakistan   19  \n",
      "2             False               Finance         china   23  \n",
      "3              True               Finance            us   19  \n",
      "4              True       Client Services       america   19  \n",
      "5             False                 Legal    westindies   23  \n",
      "6              True               Product       england   15  \n",
      "7               NaN               Finance  south africa   23  \n",
      "8              True           Engineering        brazil   22  \n",
      "9              True  Business Development  united state   21  \n"
     ]
    }
   ],
   "source": [
    "import pandas as pd\n",
    "data =pd.read_csv(\"EMP.csv\")\n",
    "print(data.head(10))"
   ]
  },
  {
   "cell_type": "code",
   "execution_count": 51,
   "id": "dfc157e8-5757-4bdb-a41e-f115d7791c09",
   "metadata": {},
   "outputs": [
    {
     "name": "stdout",
     "output_type": "stream",
     "text": [
      "                             First Name\n",
      "Team                 Gender            \n",
      "Business Development Female          49\n",
      "                     Male            39\n",
      "Client Services      Female          47\n",
      "                     Male            38\n",
      "Distribution         Female          31\n",
      "                     Male            29\n",
      "Engineering          Female          43\n",
      "                     Male            36\n",
      "Finance              Female          42\n",
      "                     Male            38\n",
      "Human Resources      Female          33\n",
      "                     Male            43\n",
      "Legal                Female          33\n",
      "                     Male            34\n",
      "Marketing            Female          36\n",
      "                     Male            38\n",
      "Product              Female          44\n",
      "                     Male            39\n",
      "Sales                Female          35\n",
      "                     Male            37\n"
     ]
    }
   ],
   "source": [
    "grp = data.groupby([\"Team\",\"Gender\"]).agg({\"First Name\":\"count\"})\n",
    "print(grp)"
   ]
  },
  {
   "cell_type": "code",
   "execution_count": 57,
   "id": "d32e57ac-2918-4b3f-b51c-ac04b6539574",
   "metadata": {},
   "outputs": [
    {
     "name": "stdout",
     "output_type": "stream",
     "text": [
      "                Age\n",
      "Country            \n",
      "India         19.28\n",
      "Pakistan      20.04\n",
      "america       19.69\n",
      "brazil        20.54\n",
      "china         20.23\n",
      "england       20.20\n",
      "south africa  19.49\n",
      "united state  20.19\n",
      "us            19.66\n",
      "westindies    19.66\n"
     ]
    }
   ],
   "source": [
    "grp1 = data.groupby(\"Country\").agg({\"Age\":\"mean\"})\n",
    "print(grp1)"
   ]
  },
  {
   "cell_type": "code",
   "execution_count": 69,
   "id": "f053b0e9-119f-47c8-9483-90e2bfee6ac1",
   "metadata": {},
   "outputs": [
    {
     "name": "stdout",
     "output_type": "stream",
     "text": [
      "  First Name  Gender  Start Date Last Login Time  Salary  Bonus %  \\\n",
      "0    Douglas    Male  08-06-1993        12:42 PM   97308    6.945   \n",
      "1     Thomas    Male   3/31/1996         6:53 AM   61933    4.170   \n",
      "2      Maria  Female   4/23/1993        11:17 AM  130590   11.858   \n",
      "3      Jerry    Male  03-04-2005         1:00 PM  138705    9.340   \n",
      "4      Larry    Male   1/24/1998         4:47 PM  101004    1.389   \n",
      "5     Dennis    Male   4/18/1987         1:35 AM  115163   10.125   \n",
      "6       Ruby  Female   8/17/1987         4:20 PM   65476   10.012   \n",
      "7        NaN  Female   7/20/2015        10:43 AM   45906   11.598   \n",
      "8     Angela  Female  11/22/2005         6:29 AM   95570   18.523   \n",
      "9    Frances  Female  08-08-2002         6:51 AM  139852    7.524   \n",
      "\n",
      "  Senior Management                  Team       Country  Age  \n",
      "0              True             Marketing         INDIA   24  \n",
      "1              True                   NaN      PAKISTAN   19  \n",
      "2             False               Finance         CHINA   23  \n",
      "3              True               Finance            US   19  \n",
      "4              True       Client Services       AMERICA   19  \n",
      "5             False                 Legal    WESTINDIES   23  \n",
      "6              True               Product       ENGLAND   15  \n",
      "7               NaN               Finance  SOUTH AFRICA   23  \n",
      "8              True           Engineering        BRAZIL   22  \n",
      "9              True  Business Development  UNITED STATE   21  \n"
     ]
    }
   ],
   "source": [
    "data[\"Country\"]=data[\"Country\"].str.upper()\n",
    "print(data.head(10))"
   ]
  },
  {
   "cell_type": "code",
   "execution_count": 86,
   "id": "3ea3165b-204f-4e5f-a4d9-b9ec08b18988",
   "metadata": {},
   "outputs": [
    {
     "name": "stdout",
     "output_type": "stream",
     "text": [
      "                     Salary  Age\n",
      "Country      Gender             \n",
      "AMERICA      Female  149908   25\n",
      "             Male    142561   25\n",
      "BRAZIL       Female  149684   25\n",
      "             Male    148225   25\n",
      "CHINA        Female  147663   25\n",
      "             Male    146812   25\n",
      "ENGLAND      Female  149654   25\n",
      "             Male    146589   25\n",
      "INDIA        Female  149563   25\n",
      "             Male    148941   25\n",
      "PAKISTAN     Female  147635   25\n",
      "             Male    148985   25\n",
      "SOUTH AFRICA Female  147183   25\n",
      "             Male    142208   25\n",
      "UNITED STATE Female  149903   25\n",
      "             Male    144701   25\n",
      "US           Female  149105   25\n",
      "             Male    148115   25\n",
      "WESTINDIES   Female  142415   25\n",
      "             Male    146651   25\n"
     ]
    }
   ],
   "source": [
    "grp1 = data.groupby([\"Country\",\"Gender\"]).agg({\"Salary\":\"max\",\"Age\":\"max\"})\n",
    "print(grp1) "
   ]
  },
  {
   "cell_type": "code",
   "execution_count": 85,
   "id": "c78a23f3-f4c9-4a89-b988-50920b945718",
   "metadata": {},
   "outputs": [
    {
     "name": "stdout",
     "output_type": "stream",
     "text": [
      "                     Salary  Age\n",
      "Country      Gender             \n",
      "AMERICA      Female   37005   15\n",
      "             Male     35802   15\n",
      "BRAZIL       Female   36067   15\n",
      "             Male     35061   15\n",
      "CHINA        Female   37259   15\n",
      "             Male     35095   15\n",
      "ENGLAND      Female   35884   15\n",
      "             Male     35013   15\n",
      "INDIA        Female   35381   15\n",
      "             Male     36837   15\n",
      "PAKISTAN     Female   36643   15\n",
      "             Male     42748   15\n",
      "SOUTH AFRICA Female   36697   15\n",
      "             Male     40451   15\n",
      "UNITED STATE Female   36711   15\n",
      "             Male     36749   15\n",
      "US           Female   40119   15\n",
      "             Male     35203   15\n",
      "WESTINDIES   Female   42090   15\n",
      "             Male     37076   15\n"
     ]
    }
   ],
   "source": [
    "grp2 = data.groupby([\"Country\",\"Gender\"]).agg({\"Salary\":\"min\",\"Age\":\"min\"})\n",
    "print(grp2)"
   ]
  }
 ],
 "metadata": {
  "kernelspec": {
   "display_name": "Python 3 (ipykernel)",
   "language": "python",
   "name": "python3"
  },
  "language_info": {
   "codemirror_mode": {
    "name": "ipython",
    "version": 3
   },
   "file_extension": ".py",
   "mimetype": "text/x-python",
   "name": "python",
   "nbconvert_exporter": "python",
   "pygments_lexer": "ipython3",
   "version": "3.12.4"
  }
 },
 "nbformat": 4,
 "nbformat_minor": 5
}
