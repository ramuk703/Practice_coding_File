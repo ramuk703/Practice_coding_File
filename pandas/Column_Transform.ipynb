{
 "cells": [
  {
   "cell_type": "code",
   "execution_count": 7,
   "id": "7d3e2efa-0b82-4b4a-b305-29ad91dbc7d0",
   "metadata": {},
   "outputs": [
    {
     "name": "stdout",
     "output_type": "stream",
     "text": [
      "   Name of Items  Qty   Rate    Amout    Tax  Total Amount  Discount  \\\n",
      "0            CPU   20   6000   120000   2400        122400    979.20   \n",
      "1            UPS   10   5000    50000   1000         51000      0.00   \n",
      "2        PRINTER   30  12000   360000   7200        367200   2937.60   \n",
      "3        MONITOR   50   5000   250000   5000        255000   2040.00   \n",
      "4       KEYBOARD   40    250    10000    200         10200     81.60   \n",
      "5          MOUSE   20    150     3000     60          3060      0.00   \n",
      "6         LAPTOP   60  36000  2160000  43200       2203200  17625.60   \n",
      "7            RAM   40   1500    60000   1200         61200    489.60   \n",
      "8            ROM   20   2000    40000    800         40800    326.40   \n",
      "9            SSD   10   3500    35000    700         35700      0.00   \n",
      "10           HDD   30   3000    90000   1800         91800      0.00   \n",
      "11     PEN-DRIVE   70    600    42000    840         42840    342.72   \n",
      "12  MOTHER-BOARD   80   3500   280000   5600        285600      0.00   \n",
      "13            IC   60    900    54000   1080         55080    440.64   \n",
      "14           LED   10  24000   240000   4800        244800      0.00   \n",
      "\n",
      "    Gross Total  \n",
      "0     121420.80  \n",
      "1      51000.00  \n",
      "2     364262.40  \n",
      "3     252960.00  \n",
      "4      10118.40  \n",
      "5       3060.00  \n",
      "6    2185574.40  \n",
      "7      60710.40  \n",
      "8      40473.60  \n",
      "9      35700.00  \n",
      "10     91800.00  \n",
      "11     42497.28  \n",
      "12    285600.00  \n",
      "13     54639.36  \n",
      "14    244800.00  \n"
     ]
    }
   ],
   "source": [
    "import pandas as pd\n",
    "data = pd.read_excel(\"C:/Users/91957/OneDrive/Desktop/Product.xlsx\")\n",
    "print(data)"
   ]
  },
  {
   "cell_type": "code",
   "execution_count": 23,
   "id": "3b163749-6235-4ed8-acc3-558d7a9f73d2",
   "metadata": {},
   "outputs": [
    {
     "name": "stdout",
     "output_type": "stream",
     "text": [
      "  Name of Items  Qty   Rate    Amout    Tax  Total Amount  Discount  \\\n",
      "0           CPU   20   6000   120000   2400        122400     979.2   \n",
      "1           UPS   10   5000    50000   1000         51000       0.0   \n",
      "2       PRINTER   30  12000   360000   7200        367200    2937.6   \n",
      "3       MONITOR   50   5000   250000   5000        255000    2040.0   \n",
      "4      KEYBOARD   40    250    10000    200         10200      81.6   \n",
      "5         MOUSE   20    150     3000     60          3060       0.0   \n",
      "6        LAPTOP   60  36000  2160000  43200       2203200   17625.6   \n",
      "7           RAM   40   1500    60000   1200         61200     489.6   \n",
      "8           ROM   20   2000    40000    800         40800     326.4   \n",
      "9           SSD   10   3500    35000    700         35700       0.0   \n",
      "\n",
      "   Gross Total    GetDiscount  \n",
      "0     121420.8  Give Discount  \n",
      "1      51000.0    No Discount  \n",
      "2     364262.4  Give Discount  \n",
      "3     252960.0  Give Discount  \n",
      "4      10118.4  Give Discount  \n",
      "5       3060.0    No Discount  \n",
      "6    2185574.4  Give Discount  \n",
      "7      60710.4  Give Discount  \n",
      "8      40473.6  Give Discount  \n",
      "9      35700.0    No Discount  \n"
     ]
    }
   ],
   "source": [
    "data.loc[(data[\"Discount\"]==0),[\"GetDiscount\"]]=\"No Discount\"\n",
    "data.loc[(data[\"Discount\"]>0),[\"GetDiscount\"]]=\"Give Discount\"\n",
    "print(data.head(10))\n"
   ]
  },
  {
   "cell_type": "code",
   "execution_count": 73,
   "id": "d810eff2-1e77-43c7-a2ba-a672ed354b5b",
   "metadata": {},
   "outputs": [
    {
     "name": "stdout",
     "output_type": "stream",
     "text": [
      "  First Name Last Name  Salary             UID\n",
      "0     mukesh     mahto   20000  23SUTCJHN04005\n",
      "1      ramuk     kumar   30000  23SUTCJHN04006\n",
      "2      guddu     yadav   45000  23SUTCJHN04007\n",
      "3      nidhi    kumari   60000  23SUTCJHN04008\n"
     ]
    }
   ],
   "source": [
    "data = pd.read_excel(\"Student.xlsx\")\n",
    "print(data)"
   ]
  },
  {
   "cell_type": "code",
   "execution_count": 81,
   "id": "034ac01b-18b8-4bd5-9900-548e0d3dc3a5",
   "metadata": {},
   "outputs": [
    {
     "name": "stdout",
     "output_type": "stream",
     "text": [
      "  First Name Last Name  Salary             UID     Full Name\n",
      "0     mukesh     mahto   20000  23SUTCJHN04005  Mukesh Mahto\n",
      "1      ramuk     kumar   30000  23SUTCJHN04006   Ramuk Kumar\n",
      "2      guddu     yadav   45000  23SUTCJHN04007   Guddu Yadav\n",
      "3      nidhi    kumari   60000  23SUTCJHN04008  Nidhi Kumari\n"
     ]
    }
   ],
   "source": [
    "data[\"Full Name\"]=data[\"First Name\"] .str.capitalize()+ \" \" +  data[\"Last Name\"].str.capitalize()\n",
    "print(data)\n"
   ]
  }
 ],
 "metadata": {
  "kernelspec": {
   "display_name": "Python 3 (ipykernel)",
   "language": "python",
   "name": "python3"
  },
  "language_info": {
   "codemirror_mode": {
    "name": "ipython",
    "version": 3
   },
   "file_extension": ".py",
   "mimetype": "text/x-python",
   "name": "python",
   "nbconvert_exporter": "python",
   "pygments_lexer": "ipython3",
   "version": "3.12.4"
  }
 },
 "nbformat": 4,
 "nbformat_minor": 5
}
