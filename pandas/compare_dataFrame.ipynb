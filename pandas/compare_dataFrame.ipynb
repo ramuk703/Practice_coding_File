{
 "cells": [
  {
   "cell_type": "code",
   "execution_count": 3,
   "id": "e8ac312a-e03d-438c-8a71-4b9a0db80e37",
   "metadata": {},
   "outputs": [
    {
     "name": "stdout",
     "output_type": "stream",
     "text": [
      "  Name of Fruits  Quantity  Price\n",
      "0          Apple         5    150\n",
      "1         Banana        10     50\n",
      "2         Orange        14    100\n",
      "3         Grapes        23     80\n",
      "4         Papaya        12     40\n"
     ]
    }
   ],
   "source": [
    "import pandas as pd\n",
    "\n",
    "Dict = {\"Name of Fruits\":[\"Apple\",\"Banana\",\"Orange\",\"Grapes\",\"Papaya\"],\n",
    "        \"Quantity\":[5,10,14,23,12],\"Price\":[150,50,100,80,40]}\n",
    "df = pd.DataFrame(Dict)\n",
    "print(df)"
   ]
  },
  {
   "cell_type": "code",
   "execution_count": 15,
   "id": "af92a987-18b7-4911-b017-8f6ed9946ac6",
   "metadata": {},
   "outputs": [
    {
     "name": "stdout",
     "output_type": "stream",
     "text": [
      "  Name of Fruits  Quantity  Price\n",
      "0          Apple         5    150\n",
      "1         Banana        10     50\n",
      "2         Orange        14    100\n",
      "3         Grapes        23     80\n",
      "4         Papaya        12     40\n",
      "\n",
      "  Name of Fruits  Quantity  Price\n",
      "0          Apple        10    210\n",
      "1         Banana        10     50\n",
      "2         Orange        14    200\n",
      "3         Grapes        20     80\n",
      "4         Papaya        30     40\n",
      "  Quantity        Price       \n",
      "      self other   self  other\n",
      "0      5.0  10.0  150.0  210.0\n",
      "2      NaN   NaN  100.0  200.0\n",
      "3     23.0  20.0    NaN    NaN\n",
      "4     12.0  30.0    NaN    NaN\n"
     ]
    }
   ],
   "source": [
    "df1 = df.copy()\n",
    "print(df1)\n",
    "# Changing Value in Quantity and price\n",
    "df1.loc[0,\"Quantity\"]=10\n",
    "df1.loc[4,\"Quantity\"]=30\n",
    "df1.loc[3,\"Quantity\"]=20\n",
    "df1.loc[0,\"Price\"]=210\n",
    "df1.loc[2,\"Price\"]=200\n",
    "print()\n",
    "print(df1)\n",
    "print(df.compare(df1)) # Show chanaged value comparing the value before and after the change the value"
   ]
  },
  {
   "cell_type": "code",
   "execution_count": 19,
   "id": "2e6230cb-3e5f-41c5-8371-0067d5df040d",
   "metadata": {},
   "outputs": [
    {
     "name": "stdout",
     "output_type": "stream",
     "text": [
      "  Name of Fruits       Quantity        Price       \n",
      "            self other     self other   self  other\n",
      "0            NaN   NaN      5.0  10.0  150.0  210.0\n",
      "1            NaN   NaN      NaN   NaN    NaN    NaN\n",
      "2            NaN   NaN      NaN   NaN  100.0  200.0\n",
      "3            NaN   NaN     23.0  20.0    NaN    NaN\n",
      "4            NaN   NaN     12.0  30.0    NaN    NaN\n"
     ]
    }
   ],
   "source": [
    "print(df.compare(df1,keep_shape=True))"
   ]
  },
  {
   "cell_type": "code",
   "execution_count": 20,
   "id": "41972f14-cee2-48cc-b6ab-b9333fcec099",
   "metadata": {},
   "outputs": [
    {
     "name": "stdout",
     "output_type": "stream",
     "text": [
      "         Quantity  Price\n",
      "0 self        5.0  150.0\n",
      "  other      10.0  210.0\n",
      "2 self        NaN  100.0\n",
      "  other       NaN  200.0\n",
      "3 self       23.0    NaN\n",
      "  other      20.0    NaN\n",
      "4 self       12.0    NaN\n",
      "  other      30.0    NaN\n"
     ]
    }
   ],
   "source": [
    "print(df.compare(df1,align_axis=0))"
   ]
  },
  {
   "cell_type": "code",
   "execution_count": 22,
   "id": "b1f89281-fb2c-4ce0-8f94-a5211edab537",
   "metadata": {},
   "outputs": [
    {
     "name": "stdout",
     "output_type": "stream",
     "text": [
      "  Quantity       Price      \n",
      "      self other  self other\n",
      "0        5    10   150   210\n",
      "2       14    14   100   200\n",
      "3       23    20    80    80\n",
      "4       12    30    40    40\n"
     ]
    }
   ],
   "source": [
    "print(df.compare(df1,keep_equal=True))"
   ]
  }
 ],
 "metadata": {
  "kernelspec": {
   "display_name": "Python 3 (ipykernel)",
   "language": "python",
   "name": "python3"
  },
  "language_info": {
   "codemirror_mode": {
    "name": "ipython",
    "version": 3
   },
   "file_extension": ".py",
   "mimetype": "text/x-python",
   "name": "python",
   "nbconvert_exporter": "python",
   "pygments_lexer": "ipython3",
   "version": "3.12.4"
  }
 },
 "nbformat": 4,
 "nbformat_minor": 5
}
