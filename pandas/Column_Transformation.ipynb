{
 "cells": [
  {
   "cell_type": "code",
   "execution_count": 190,
   "id": "01f21d2b-c65f-4c59-9d2f-5d70ab7f0924",
   "metadata": {},
   "outputs": [
    {
     "name": "stdout",
     "output_type": "stream",
     "text": [
      "   Name of the Student Gender  Age   Salary\n",
      "0          Ramuk Kumar      M   20  16890.0\n",
      "1        Sunita Kumari      F   21      NaN\n",
      "2            Raj Kumar      M   23  17068.0\n",
      "3                Nira       F   24      NaN\n",
      "4         Manish Kumar      M   23  22955.0\n",
      "5          Kunal Kumar    NaN   20  24965.0\n",
      "6          Guddu Kumar    NaN   21  18067.0\n",
      "7         Mukesh Kumar      M   20  17234.0\n",
      "8          Suraj Kumar    NaN   20  16637.0\n",
      "9         Sachin Kumar      M   21  16163.0\n",
      "10        Nidhi Kumari      F   23      NaN\n"
     ]
    }
   ],
   "source": [
    "import pandas as pd\n",
    "data = pd.read_csv(\"C:/Users/91957/OneDrive/Desktop/Handling.csv\")\n",
    "print(data)"
   ]
  },
  {
   "cell_type": "code",
   "execution_count": null,
   "id": "59319f73-9d77-409d-9fe8-52e10031002b",
   "metadata": {},
   "outputs": [],
   "source": []
  }
 ],
 "metadata": {
  "kernelspec": {
   "display_name": "Python 3 (ipykernel)",
   "language": "python",
   "name": "python3"
  },
  "language_info": {
   "codemirror_mode": {
    "name": "ipython",
    "version": 3
   },
   "file_extension": ".py",
   "mimetype": "text/x-python",
   "name": "python",
   "nbconvert_exporter": "python",
   "pygments_lexer": "ipython3",
   "version": "3.12.4"
  }
 },
 "nbformat": 4,
 "nbformat_minor": 5
}
