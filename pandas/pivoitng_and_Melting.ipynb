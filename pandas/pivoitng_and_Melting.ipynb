{
 "cells": [
  {
   "cell_type": "code",
   "execution_count": 1,
   "id": "d79effec-9ef5-46ce-b1ca-212db00d1702",
   "metadata": {},
   "outputs": [
    {
     "name": "stdout",
     "output_type": "stream",
     "text": [
      "  Keys   Names  Houses\n",
      "0   k1   Ramuk    Blue\n",
      "1   k2   Guddu     Red\n",
      "2   k1  Rajesh   Green\n",
      "3   k2  Sachin  Yellow\n"
     ]
    }
   ],
   "source": [
    "import pandas as pd\n",
    "dict = {\"Keys\":[\"k1\",\"k2\",\"k1\",\"k2\"],\n",
    "       \"Names\":[\"Ramuk\",\"Guddu\",\"Rajesh\",\"Sachin\"],\n",
    "       \"Houses\":[\"Blue\",\"Red\",\"Green\",\"Yellow\"]}\n",
    "df = pd.DataFrame(dict)\n",
    "print(df)"
   ]
  }
 ],
 "metadata": {
  "kernelspec": {
   "display_name": "Python 3 (ipykernel)",
   "language": "python",
   "name": "python3"
  },
  "language_info": {
   "codemirror_mode": {
    "name": "ipython",
    "version": 3
   },
   "file_extension": ".py",
   "mimetype": "text/x-python",
   "name": "python",
   "nbconvert_exporter": "python",
   "pygments_lexer": "ipython3",
   "version": "3.12.4"
  }
 },
 "nbformat": 4,
 "nbformat_minor": 5
}
