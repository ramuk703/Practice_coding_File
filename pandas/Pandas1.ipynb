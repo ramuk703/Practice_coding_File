{
 "cells": [
  {
   "cell_type": "code",
   "execution_count": 30,
   "id": "2b1842ea-d7ea-44fa-a513-8f9b08815ce8",
   "metadata": {},
   "outputs": [
    {
     "name": "stdout",
     "output_type": "stream",
     "text": [
      "           Name  Age  Salary\n",
      "0   Ramuk Kumar   18   20000\n",
      "1   Guddu Kumar   20   30000\n",
      "2  Mukesh Kumar   19   40000\n",
      "3   Ariya Kumar   21   50000\n"
     ]
    }
   ],
   "source": [
    "import pandas as pd\n",
    "data = {\"Name\":[\"Ramuk Kumar\",\"Guddu Kumar\",\"Mukesh Kumar\",\"Ariya Kumar\"],\"Age\":[18,20,19,21],\"Salary\":[20000,30000,40000,50000]}\n",
    "df = pd.DataFrame(data)\n",
    "print(df)"
   ]
  },
  {
   "cell_type": "code",
   "execution_count": 88,
   "id": "22f1797b-0606-45d6-b16d-d6c1b61a274c",
   "metadata": {},
   "outputs": [
    {
     "name": "stdout",
     "output_type": "stream",
     "text": [
      "  Name of the Student  Age     Salary\n",
      "0         Ramuk Kumar   20  15,000.00\n",
      "1        Sachin Kumar   21  20,000.00\n",
      "2           Raj Kumar   23  30,000.00\n",
      "3        Mahesh Kumar   24  15,000.00\n",
      "4        Ramesh Kumar   23  16,000.00\n",
      "5         Kunal Kumar   20  21,000.00\n",
      "6         Guddu Kumar   21  60,000.00\n",
      "7        Mukesh Kumar   20  80,000.00\n"
     ]
    }
   ],
   "source": [
    "data = pd.read_csv(\"C:/Users/91957/OneDrive/Desktop/Ramuk.csv\")\n",
    "print(data)"
   ]
  }
 ],
 "metadata": {
  "kernelspec": {
   "display_name": "Python 3 (ipykernel)",
   "language": "python",
   "name": "python3"
  },
  "language_info": {
   "codemirror_mode": {
    "name": "ipython",
    "version": 3
   },
   "file_extension": ".py",
   "mimetype": "text/x-python",
   "name": "python",
   "nbconvert_exporter": "python",
   "pygments_lexer": "ipython3",
   "version": "3.12.4"
  }
 },
 "nbformat": 4,
 "nbformat_minor": 5
}
