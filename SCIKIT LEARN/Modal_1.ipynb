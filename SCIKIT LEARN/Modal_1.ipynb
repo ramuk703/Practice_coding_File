{
 "cells": [
  {
   "cell_type": "code",
   "execution_count": 1,
   "id": "221201f5-7d0e-499d-ac96-2637b695d920",
   "metadata": {},
   "outputs": [
    {
     "name": "stdin",
     "output_type": "stream",
     "text": [
      "Enter the number of hours you study :  5\n"
     ]
    },
    {
     "name": "stderr",
     "output_type": "stream",
     "text": [
      "C:\\Users\\91957\\AppData\\Local\\Programs\\Python\\Python312\\Lib\\site-packages\\sklearn\\base.py:493: UserWarning: X does not have valid feature names, but LinearRegression was fitted with feature names\n",
      "  warnings.warn(\n"
     ]
    },
    {
     "ename": "TypeError",
     "evalue": "unsupported format string passed to numpy.ndarray.__format__",
     "output_type": "error",
     "traceback": [
      "\u001b[1;31m---------------------------------------------------------------------------\u001b[0m",
      "\u001b[1;31mTypeError\u001b[0m                                 Traceback (most recent call last)",
      "Cell \u001b[1;32mIn[1], line 33\u001b[0m\n\u001b[0;32m     30\u001b[0m predicted_score\u001b[38;5;241m=\u001b[39mmodel\u001b[38;5;241m.\u001b[39mpredict([[user_input]])\n\u001b[0;32m     32\u001b[0m \u001b[38;5;66;03m# printing the output\u001b[39;00m\n\u001b[1;32m---> 33\u001b[0m \u001b[38;5;28mprint\u001b[39m(\u001b[38;5;124mf\u001b[39m\u001b[38;5;124m\"\u001b[39m\u001b[38;5;124mPredicted Exam Score :\u001b[39m\u001b[38;5;132;43;01m{\u001b[39;49;00m\u001b[43mpredicted_score\u001b[49m\u001b[43m[\u001b[49m\u001b[38;5;241;43m0\u001b[39;49m\u001b[43m]\u001b[49m\u001b[38;5;132;43;01m:\u001b[39;49;00m\u001b[38;5;124;43m.2f\u001b[39;49m\u001b[38;5;132;43;01m}\u001b[39;49;00m\u001b[38;5;124m \u001b[39m\u001b[38;5;124m\"\u001b[39m)\n",
      "\u001b[1;31mTypeError\u001b[0m: unsupported format string passed to numpy.ndarray.__format__"
     ]
    }
   ],
   "source": [
    "import numpy as np\n",
    "import pandas as pd\n",
    "from sklearn.model_selection import train_test_split\n",
    "from sklearn.linear_model import LinearRegression\n",
    "\n",
    "# step no 2\n",
    "ramukdata = {'Hours_Study':[2,3,4,5,6,7,8,9], 'Exam_score':[30,40,50,60,70,80,90,95]}\n",
    "\n",
    "#  step no 3\n",
    "df = pd.DataFrame(ramukdata)\n",
    "# print(df)\n",
    "\n",
    "X = df[['Hours_Study']]\n",
    "Y = df[['Exam_score']]\n",
    "\n",
    "# step 4\n",
    "X_train, X_test, Y_train, Y_test = train_test_split(X,Y, test_size=0.2,random_state=42)\n",
    "\n",
    "# step no 6\n",
    "model = LinearRegression()\n",
    "\n",
    "# step no 7\n",
    "model.fit(X_train,Y_train)\n",
    "\n",
    "\n",
    "\n",
    "# user input testing\n",
    "user_input = float(input(\"Enter the number of hours you study : \"))\n",
    "\n",
    "predicted_score=model.predict([[user_input]])\n",
    "\n",
    "# printing the output\n",
    "print(f\"Predicted Exam Score :{predicted_score[0]:.2f} \")\n",
    "\n"
   ]
  }
 ],
 "metadata": {
  "kernelspec": {
   "display_name": "Python 3 (ipykernel)",
   "language": "python",
   "name": "python3"
  },
  "language_info": {
   "codemirror_mode": {
    "name": "ipython",
    "version": 3
   },
   "file_extension": ".py",
   "mimetype": "text/x-python",
   "name": "python",
   "nbconvert_exporter": "python",
   "pygments_lexer": "ipython3",
   "version": "3.12.4"
  }
 },
 "nbformat": 4,
 "nbformat_minor": 5
}
