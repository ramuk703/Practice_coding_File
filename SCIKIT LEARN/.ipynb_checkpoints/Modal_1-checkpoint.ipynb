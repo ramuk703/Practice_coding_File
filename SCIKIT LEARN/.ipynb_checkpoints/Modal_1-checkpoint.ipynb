{
 "cells": [
  {
   "cell_type": "code",
   "execution_count": null,
   "id": "221201f5-7d0e-499d-ac96-2637b695d920",
   "metadata": {},
   "outputs": [],
   "source": [
    "import numpy as np\n",
    "import pandas as pd\n",
    "from sklearn.model_selection import train_test_split\n",
    "from sklearn.linear_model import LinearRegression\n",
    "\n",
    "# step no 2\n",
    "ramukdata = {'Hours_Study':[2,3,4,5,6,7,8,9], 'Exam_score':[30,40,50,60,70,80,90,95]}\n",
    "\n",
    "#  step no 3\n",
    "df = pd.DataFrame(ramukdata)\n",
    "# print(df)\n",
    "\n",
    "X = df[['Hours_Study']]\n",
    "Y = df[['Exam_score']]\n",
    "\n",
    "# step 4\n",
    "X_train, X_test, Y_train, Y_test = train_test_split(X,Y, test_size=0.2,random_state=42)\n",
    "\n",
    "# step no 6\n",
    "model = LinearRegression()\n",
    "\n",
    "# step no 7\n",
    "model.fit(X_train,Y_train)\n",
    "\n",
    "\n",
    "\n",
    "# user input testing\n",
    "user_input = float(input(\"Enter the number of hours you study : \"))\n",
    "\n",
    "predicted_score=model.predict([[user_input]])\n",
    "\n",
    "# printing the output\n",
    "print(f\"Predicted Exam Score :{predicted_score[0]:.2f} \")\n",
    "\n"
   ]
  }
 ],
 "metadata": {
  "kernelspec": {
   "display_name": "Python 3 (ipykernel)",
   "language": "python",
   "name": "python3"
  },
  "language_info": {
   "codemirror_mode": {
    "name": "ipython",
    "version": 3
   },
   "file_extension": ".py",
   "mimetype": "text/x-python",
   "name": "python",
   "nbconvert_exporter": "python",
   "pygments_lexer": "ipython3",
   "version": "3.12.4"
  }
 },
 "nbformat": 4,
 "nbformat_minor": 5
}
