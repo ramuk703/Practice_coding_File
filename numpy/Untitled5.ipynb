{
 "cells": [
  {
   "cell_type": "code",
   "execution_count": 19,
   "id": "403a0226-ffd7-4bd1-ac3e-445b0eac7f91",
   "metadata": {},
   "outputs": [
    {
     "name": "stdout",
     "output_type": "stream",
     "text": [
      "   ADMISSIN CARD NO.                    NAME OF THE COLLEGE  \\\n",
      "0           S2031038  GHAGHRA INTER SCIENCE COLLEGE BAGODAR   \n",
      "1           S2031039  GHAGHRA INTER SCIENCE COLLEGE BAGODAR   \n",
      "2           S2031040  GHAGHRA INTER SCIENCE COLLEGE BAGODAR   \n",
      "3           S2031041  GHAGHRA INTER SCIENCE COLLEGE BAGODAR   \n",
      "4           S2031042  GHAGHRA INTER SCIENCE COLLEGE BAGODAR   \n",
      "5           S2031043  GHAGHRA INTER SCIENCE COLLEGE BAGODAR   \n",
      "6           S2031044  GHAGHRA INTER SCIENCE COLLEGE BAGODAR   \n",
      "7           S2031045  GHAGHRA INTER SCIENCE COLLEGE BAGODAR   \n",
      "8           S2031046  GHAGHRA INTER SCIENCE COLLEGE BAGODAR   \n",
      "9           S2031047  GHAGHRA INTER SCIENCE COLLEGE BAGODAR   \n",
      "10          S2031048  GHAGHRA INTER SCIENCE COLLEGE BAGODAR   \n",
      "11          S2031049  GHAGHRA INTER SCIENCE COLLEGE BAGODAR   \n",
      "12          S2031050  GHAGHRA INTER SCIENCE COLLEGE BAGODAR   \n",
      "13          S2031051  GHAGHRA INTER SCIENCE COLLEGE BAGODAR   \n",
      "14          S2031052  GHAGHRA INTER SCIENCE COLLEGE BAGODAR   \n",
      "15          S2031053  GHAGHRA INTER SCIENCE COLLEGE BAGODAR   \n",
      "16          S2031054  GHAGHRA INTER SCIENCE COLLEGE BAGODAR   \n",
      "17          S2031055  GHAGHRA INTER SCIENCE COLLEGE BAGODAR   \n",
      "18          S2031056  GHAGHRA INTER SCIENCE COLLEGE BAGODAR   \n",
      "\n",
      "   NAME OF THE CANDIDATE NAME OF THE MOTHER NAME OF THE FATHER CATEGORY  \\\n",
      "0         GAYATRI KUMARI       CHAMELI DEVI        MOHAN MAHTO  REGULAR   \n",
      "1            RAMUK KUMAR       BHAGIYA DEVI        ARJUN MAHTO  REGULAR   \n",
      "2           MUKESH KUMAR       BHAGIYA DEVI        ARJUN MAHTO  REGULAR   \n",
      "3          KAVITA KUMARI        SAVITA DEVI                XYZ  REGULAR   \n",
      "4            NIRA KUMARI                XYZ                XYZ  REGULAR   \n",
      "5           NISHA KUMARI                XYZ                XYZ   ABSENT   \n",
      "6           NIDHI KUMARI                XYZ                XYZ  REGULAR   \n",
      "7        KHUSHBOO KUMARI                XYZ                XYZ   ABSENT   \n",
      "8        APRAJITA KUMARI                XYZ                XYZ  REGULAR   \n",
      "9           APITA KUMARI                XYZ                XYZ  REGULAR   \n",
      "10         SUJATA KUMARI                XYZ                XYZ  REGULAR   \n",
      "11          SEJAL KUMARI                XYZ                XYZ  REGULAR   \n",
      "12           ASHOK KUMAR                XYZ                XYZ  REGULAR   \n",
      "13          RAJESH KUMAR                XYZ                XYZ  REGULAR   \n",
      "14            RAMU KUMAR                XYZ                XYZ  REGULAR   \n",
      "15          MANISH KUMAR                XYZ                XYZ  REGULAR   \n",
      "16         SANJEET KUMAR                XYZ                XYZ  REGULAR   \n",
      "17           RAHUL KUMAR                XYZ                XYZ  REGULAR   \n",
      "18          SANJAY KUMAR                XYZ                XYZ  REGULAR   \n",
      "\n",
      "    JAC GENERATED UID NO. OF CANDIDATE CODE & NAME OF THE EXAMINATION CENTRE  \n",
      "0                           1213456987               + 2 HIGH SCHOOL BAGODAR  \n",
      "1                           1213456988               + 2 HIGH SCHOOL BAGODAR  \n",
      "2                           1213456989               + 2 HIGH SCHOOL BAGODAR  \n",
      "3                           1213456990               + 2 HIGH SCHOOL BAGODAR  \n",
      "4                           1213456991               + 2 HIGH SCHOOL BAGODAR  \n",
      "5                           1213456992               + 2 HIGH SCHOOL BAGODAR  \n",
      "6                           1213456993               + 2 HIGH SCHOOL BAGODAR  \n",
      "7                           1213456994               + 2 HIGH SCHOOL BAGODAR  \n",
      "8                           1213456995               + 2 HIGH SCHOOL BAGODAR  \n",
      "9                           1213456996               + 2 HIGH SCHOOL BAGODAR  \n",
      "10                          1213456997               + 2 HIGH SCHOOL BAGODAR  \n",
      "11                          1213456998               + 2 HIGH SCHOOL BAGODAR  \n",
      "12                          1213456999               + 2 HIGH SCHOOL BAGODAR  \n",
      "13                          1213457000               + 2 HIGH SCHOOL BAGODAR  \n",
      "14                          1213457001               + 2 HIGH SCHOOL BAGODAR  \n",
      "15                          1213457002               + 2 HIGH SCHOOL BAGODAR  \n",
      "16                          1213457003               + 2 HIGH SCHOOL BAGODAR  \n",
      "17                          1213457004               + 2 HIGH SCHOOL BAGODAR  \n",
      "18                          1213457005               + 2 HIGH SCHOOL BAGODAR  \n"
     ]
    }
   ],
   "source": [
    "print(pd.read_excel(\"Data_Ramuk.xlsx\"))"
   ]
  }
 ],
 "metadata": {
  "kernelspec": {
   "display_name": "Python 3 (ipykernel)",
   "language": "python",
   "name": "python3"
  },
  "language_info": {
   "codemirror_mode": {
    "name": "ipython",
    "version": 3
   },
   "file_extension": ".py",
   "mimetype": "text/x-python",
   "name": "python",
   "nbconvert_exporter": "python",
   "pygments_lexer": "ipython3",
   "version": "3.12.4"
  }
 },
 "nbformat": 4,
 "nbformat_minor": 5
}
