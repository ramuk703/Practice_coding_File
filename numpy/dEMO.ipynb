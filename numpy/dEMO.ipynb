{
 "cells": [
  {
   "cell_type": "code",
   "execution_count": 87,
   "id": "ce2992ee-a686-47d8-8c12-31427e8207df",
   "metadata": {},
   "outputs": [
    {
     "name": "stdout",
     "output_type": "stream",
     "text": [
      "[[34, 53, 53, 53, 34], [34, 34, 34, 34, 34]]\n",
      "2\n",
      "(2, 5)\n",
      "10\n",
      "<class 'numpy.ndarray'>\n",
      "int64\n",
      "[[34. 53. 53. 53. 34.]\n",
      " [34. 34. 34. 34. 34.]]\n",
      "[[34 53 53 53 34]\n",
      " [34 34 34 34 34]]\n",
      "[['34' '53' '53' '53' '34']\n",
      " ['34' '34' '34' '34' '34']]\n"
     ]
    }
   ],
   "source": [
    "import numpy as ara\n",
    "a =[[34,53,53,53,34],[34,34,34,34,34]]\n",
    "arr=ara.array(a)\n",
    "print(a)\n",
    "print(len(arr))\n",
    "print(arr.shape)  # rows, columns\n",
    "print(ara.size(arr))   #number of nested value\n",
    "print(type(arr))           # dimension of arrays\n",
    "print(arr.dtype)        # datatype of array\n",
    "print(arr.astype(float)) # conversion of data type\n",
    "print(arr.astype(int))\n",
    "print(arr.astype(str))\n"
   ]
  }
 ],
 "metadata": {
  "kernelspec": {
   "display_name": "Python 3 (ipykernel)",
   "language": "python",
   "name": "python3"
  },
  "language_info": {
   "codemirror_mode": {
    "name": "ipython",
    "version": 3
   },
   "file_extension": ".py",
   "mimetype": "text/x-python",
   "name": "python",
   "nbconvert_exporter": "python",
   "pygments_lexer": "ipython3",
   "version": "3.12.4"
  }
 },
 "nbformat": 4,
 "nbformat_minor": 5
}
