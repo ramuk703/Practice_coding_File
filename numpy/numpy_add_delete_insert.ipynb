{
 "cells": [
  {
   "cell_type": "code",
   "execution_count": 43,
   "id": "b016bc34-b7a1-46a8-a73e-365182377d4a",
   "metadata": {},
   "outputs": [
    {
     "name": "stdout",
     "output_type": "stream",
     "text": [
      "[10 20 30 40 50 60 70 80]\n",
      "[10 20 30 40 50 60 70 80 33 55]\n",
      "[10 20 11 22 30 40 50 60 70 80]\n",
      "[10 20 30 40 50 60 70]\n"
     ]
    }
   ],
   "source": [
    "#Adding and |Removing Elements In The Arrays\n",
    "import numpy as np\n",
    "arr = np.array([10,20,30,40,50,60,70,80])\n",
    "print(arr)\n",
    "print(np.append(arr,[33,55]))\n",
    "print(np.insert(arr,2,[11,22],axis =0))\n",
    "print(np.delete(arr,[7]))"
   ]
  }
 ],
 "metadata": {
  "kernelspec": {
   "display_name": "Python 3 (ipykernel)",
   "language": "python",
   "name": "python3"
  },
  "language_info": {
   "codemirror_mode": {
    "name": "ipython",
    "version": 3
   },
   "file_extension": ".py",
   "mimetype": "text/x-python",
   "name": "python",
   "nbconvert_exporter": "python",
   "pygments_lexer": "ipython3",
   "version": "3.12.4"
  }
 },
 "nbformat": 4,
 "nbformat_minor": 5
}
