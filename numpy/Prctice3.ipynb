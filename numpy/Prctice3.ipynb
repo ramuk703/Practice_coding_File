{
 "cells": [
  {
   "cell_type": "code",
   "execution_count": 5,
   "id": "ccca88a0-4335-4cb0-873c-b94ef87a90b9",
   "metadata": {},
   "outputs": [
    {
     "name": "stdout",
     "output_type": "stream",
     "text": [
      "[20, 30, 40, 50, 10, 10, 10, 10]\n"
     ]
    }
   ],
   "source": [
    "\n",
    "arr1 =  ([20,30,40,50])\n",
    "arr2 =  ([10,10,10,10])\n",
    "print(arr1+arr2)"
   ]
  },
  {
   "cell_type": "code",
   "execution_count": 24,
   "id": "6e39ccbf-3fb4-4867-9e86-452239938268",
   "metadata": {},
   "outputs": [
    {
     "name": "stdout",
     "output_type": "stream",
     "text": [
      "[[20 30 10 10]\n",
      " [40 50 10 10]]\n",
      "\n",
      "[[20 30]\n",
      " [40 50]\n",
      " [10 10]\n",
      " [10 10]]\n",
      "\n",
      "[[20 30 10 10]\n",
      " [40 50 10 10]]\n"
     ]
    }
   ],
   "source": [
    "#Concatenation of two arrays \n",
    "import numpy as np\n",
    "arr1 = np.array([[20,30],[40,50]])\n",
    "arr2 = np.array([[10,10],[10,10]])\n",
    "print(np.concatenate([arr1,arr2],axis = 1))\n",
    "print()\n",
    "print(np.vstack([arr1,arr2]))                #vertical concatenation\n",
    "print()\n",
    "print(np.hstack([arr1,arr2]))               #Horizontal concatenation"
   ]
  },
  {
   "cell_type": "code",
   "execution_count": 34,
   "id": "c1a4d10a-3e4f-435f-a657-1f7153a588d6",
   "metadata": {},
   "outputs": [
    {
     "name": "stdout",
     "output_type": "stream",
     "text": [
      "[array([10, 20, 30, 40, 50]), array([60, 70, 80, 90])]\n"
     ]
    }
   ],
   "source": [
    "arr3 = np.array([10,20,30,40,50,60,70,80,90])\n",
    "print(np.array_split(arr3,2))"
   ]
  },
  {
   "cell_type": "code",
   "execution_count": 38,
   "id": "3c696479-fbb9-44c2-bfbc-a8602bd8d529",
   "metadata": {},
   "outputs": [
    {
     "name": "stdout",
     "output_type": "stream",
     "text": [
      "[array([[10, 20, 30, 40]]), array([[50, 60, 70, 80]]), array([], shape=(0, 4), dtype=int64), array([], shape=(0, 4), dtype=int64)]\n"
     ]
    }
   ],
   "source": [
    "arr3 = np.array([[10,20,30,40],[50,60,70,80]])\n",
    "print(np.array_split(arr3,4))"
   ]
  }
 ],
 "metadata": {
  "kernelspec": {
   "display_name": "Python 3 (ipykernel)",
   "language": "python",
   "name": "python3"
  },
  "language_info": {
   "codemirror_mode": {
    "name": "ipython",
    "version": 3
   },
   "file_extension": ".py",
   "mimetype": "text/x-python",
   "name": "python",
   "nbconvert_exporter": "python",
   "pygments_lexer": "ipython3",
   "version": "3.12.4"
  }
 },
 "nbformat": 4,
 "nbformat_minor": 5
}
