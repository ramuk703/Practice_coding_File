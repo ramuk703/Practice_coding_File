{
 "cells": [
  {
   "cell_type": "code",
   "execution_count": 90,
   "id": "74167a5c-010d-48ca-a004-349245431041",
   "metadata": {},
   "outputs": [
    {
     "name": "stdout",
     "output_type": "stream",
     "text": [
      "     Name of the Student       f/name   Age   Salary\n",
      "0            Ramuk Kumar  Arjun Mahto  20.0  24544.0\n",
      "1           Sachin Kumar          NaN  21.0  20075.0\n",
      "2              Raj Kumar          NaN  23.0  21448.0\n",
      "3           Mahesh Kumar          NaN  24.0  18146.0\n",
      "4           Ramesh Kumar          NaN  23.0  18225.0\n",
      "...                  ...          ...   ...      ...\n",
      "997          Ramuk Kumar          NaN  19.0  24988.0\n",
      "998         Sachin Kumar          NaN  15.0  16250.0\n",
      "999            Raj Kumar          NaN  20.0  16422.0\n",
      "1000        Mahesh Kumar          NaN  21.0  18289.0\n",
      "1001        Ramesh Kumar          NaN  18.0  19447.0\n",
      "\n",
      "[1002 rows x 4 columns]\n"
     ]
    }
   ],
   "source": [
    "import pandas as pd\n",
    "data = pd.read_excel(\"C:/Users/91957/OneDrive/Desktop/Ramuk1.xlsx\")\n",
    "print(data)"
   ]
  },
  {
   "cell_type": "code",
   "execution_count": 92,
   "id": "fd9b3e90-74c9-4601-9bb6-1ca9c600d736",
   "metadata": {},
   "outputs": [
    {
     "name": "stdout",
     "output_type": "stream",
     "text": [
      "  Name of the Student       f/name   Age   Salary\n",
      "0         Ramuk Kumar  Arjun Mahto  20.0  24544.0\n",
      "1        Sachin Kumar          NaN  21.0  20075.0\n",
      "2           Raj Kumar          NaN  23.0  21448.0\n",
      "3        Mahesh Kumar          NaN  24.0  18146.0\n",
      "4        Ramesh Kumar          NaN  23.0  18225.0\n",
      "5         Kunal Kumar          NaN  20.0  21702.0\n",
      "6         Guddu Kumar          NaN  21.0  19236.0\n",
      "7        Mukesh Kumar  Ramuk Kumar  20.0  15018.0\n",
      "8         Ramuk Kumar          NaN  20.0  18945.0\n",
      "9        Sachin Kumar          NaN  21.0  24946.0\n"
     ]
    }
   ],
   "source": [
    "print(data.head(10))"
   ]
  },
  {
   "cell_type": "code",
   "execution_count": 94,
   "id": "4e1464bc-6539-4129-83a1-c9a940fbcf41",
   "metadata": {},
   "outputs": [
    {
     "name": "stdout",
     "output_type": "stream",
     "text": [
      "     Name of the Student f/name   Age   Salary\n",
      "992         Sachin Kumar    NaN  22.0  18537.0\n",
      "993            Raj Kumar    NaN  18.0  22614.0\n",
      "994         Mahesh Kumar    NaN  23.0  23172.0\n",
      "995         Ramesh Kumar    NaN  24.0  17639.0\n",
      "996          Kunal Kumar    NaN  18.0  24747.0\n",
      "997          Ramuk Kumar    NaN  19.0  24988.0\n",
      "998         Sachin Kumar    NaN  15.0  16250.0\n",
      "999            Raj Kumar    NaN  20.0  16422.0\n",
      "1000        Mahesh Kumar    NaN  21.0  18289.0\n",
      "1001        Ramesh Kumar    NaN  18.0  19447.0\n"
     ]
    }
   ],
   "source": [
    "print(data.tail(10))"
   ]
  },
  {
   "cell_type": "code",
   "execution_count": 84,
   "id": "45381cd3-9ef7-4a6d-a354-38a07362fa4b",
   "metadata": {},
   "outputs": [
    {
     "name": "stdout",
     "output_type": "stream",
     "text": [
      "<class 'pandas.core.frame.DataFrame'>\n",
      "RangeIndex: 1002 entries, 0 to 1001\n",
      "Data columns (total 4 columns):\n",
      " #   Column               Non-Null Count  Dtype  \n",
      "---  ------               --------------  -----  \n",
      " 0   Name of the Student  999 non-null    object \n",
      " 1   f/name               0 non-null      float64\n",
      " 2   Age                  999 non-null    float64\n",
      " 3   Salary               999 non-null    float64\n",
      "dtypes: float64(3), object(1)\n",
      "memory usage: 31.4+ KB\n",
      "None\n"
     ]
    }
   ],
   "source": [
    "print(data.info())"
   ]
  },
  {
   "cell_type": "code",
   "execution_count": 96,
   "id": "923dd69e-5f24-4de5-bdca-cebe32a88207",
   "metadata": {},
   "outputs": [
    {
     "name": "stdout",
     "output_type": "stream",
     "text": [
      "              Age        Salary\n",
      "count  999.000000    999.000000\n",
      "mean    20.108108  20011.164164\n",
      "std      3.132723   2846.684004\n",
      "min     15.000000  15002.000000\n",
      "25%     17.000000  17588.000000\n",
      "50%     20.000000  19997.000000\n",
      "75%     23.000000  22403.500000\n",
      "max     25.000000  24996.000000\n"
     ]
    }
   ],
   "source": [
    "print(data.describe())"
   ]
  },
  {
   "cell_type": "code",
   "execution_count": 86,
   "id": "81a48f34-1d54-4bb0-89d9-624e39e58195",
   "metadata": {},
   "outputs": [
    {
     "name": "stdout",
     "output_type": "stream",
     "text": [
      "      Name of the Student  f/name    Age  Salary\n",
      "0                   False    True  False   False\n",
      "1                   False    True  False   False\n",
      "2                   False    True  False   False\n",
      "3                   False    True  False   False\n",
      "4                   False    True  False   False\n",
      "...                   ...     ...    ...     ...\n",
      "997                 False    True  False   False\n",
      "998                 False    True  False   False\n",
      "999                 False    True  False   False\n",
      "1000                False    True  False   False\n",
      "1001                False    True  False   False\n",
      "\n",
      "[1002 rows x 4 columns]\n"
     ]
    }
   ],
   "source": [
    "print(data.isnull())"
   ]
  },
  {
   "cell_type": "code",
   "execution_count": 98,
   "id": "65d11d20-d42c-46d8-af3a-5bc9ae77bbce",
   "metadata": {},
   "outputs": [
    {
     "name": "stdout",
     "output_type": "stream",
     "text": [
      "Name of the Student       3\n",
      "f/name                 1000\n",
      "Age                       3\n",
      "Salary                    3\n",
      "dtype: int64\n"
     ]
    }
   ],
   "source": [
    "print(data.isnull().sum())"
   ]
  }
 ],
 "metadata": {
  "kernelspec": {
   "display_name": "Python 3 (ipykernel)",
   "language": "python",
   "name": "python3"
  },
  "language_info": {
   "codemirror_mode": {
    "name": "ipython",
    "version": 3
   },
   "file_extension": ".py",
   "mimetype": "text/x-python",
   "name": "python",
   "nbconvert_exporter": "python",
   "pygments_lexer": "ipython3",
   "version": "3.12.4"
  }
 },
 "nbformat": 4,
 "nbformat_minor": 5
}
