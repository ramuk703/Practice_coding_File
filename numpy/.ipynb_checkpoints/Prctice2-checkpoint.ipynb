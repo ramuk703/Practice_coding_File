{
 "cells": [
  {
   "cell_type": "code",
   "execution_count": 50,
   "id": "1635fedf-620c-4d8e-a0c6-66c407905e41",
   "metadata": {},
   "outputs": [
    {
     "name": "stdout",
     "output_type": "stream",
     "text": [
      "[[10 20 30 40]\n",
      " [50 60 70 80]]\n",
      "2\n",
      "8\n",
      "(2, 4)\n",
      "int64\n",
      "[[10. 20. 30. 40.]\n",
      " [50. 60. 70. 80.]]\n",
      "2\n"
     ]
    }
   ],
   "source": [
    "import numpy as np\n",
    "arr=np.array([[10,20,30,40],[50,60,70,80]])\n",
    "print(arr)\n",
    "print(len(arr))\n",
    "print(arr.size)\n",
    "print(arr.shape)\n",
    "print(arr.dtype)\n",
    "print(arr.astype(float))\n",
    "print(arr.ndim)\n",
    "\n"
   ]
  },
  {
   "cell_type": "code",
   "execution_count": 39,
   "id": "70632ede-3e55-4cde-bff0-4fd0bb8de647",
   "metadata": {},
   "outputs": [
    {
     "name": "stdout",
     "output_type": "stream",
     "text": [
      "[30 50 80 60]\n",
      "[30 50 80 60]\n",
      "[10 10  0 40]\n",
      "[2.  1.5 1.  5. ]\n",
      "[2.  1.5 1.  5. ]\n"
     ]
    }
   ],
   "source": [
    "import numpy as np1\n",
    "arr1 = np1.array([20,30,40,50])\n",
    "arr2 = np1.array([10,20,40,10])\n",
    "print(arr1+arr2)\n",
    "print(np1.add(arr1,arr2))\n",
    "print(np1.subtract(arr1,arr2))\n",
    "print(arr1/arr2)\n",
    "print(np1.divide(arr1,arr2))"
   ]
  },
  {
   "cell_type": "code",
   "execution_count": 69,
   "id": "5bd5d918-47d7-465d-ad71-eeecf5215113",
   "metadata": {},
   "outputs": [
    {
     "name": "stdout",
     "output_type": "stream",
     "text": [
      "[[10 20 30 40 50]\n",
      " [20 30 10 40 10]] [[50 20 10 30 10]\n",
      " [50 60 70 80 90]]\n",
      "[[ 500  400  300 1200  500]\n",
      " [1000 1800  700 3200  900]]\n",
      "[[2.20264658e+04 4.85165195e+08 1.06864746e+13 2.35385267e+17\n",
      "  5.18470553e+21]\n",
      " [4.85165195e+08 1.06864746e+13 2.20264658e+04 2.35385267e+17\n",
      "  2.20264658e+04]]\n",
      "[[3.16227766 4.47213595 5.47722558 6.32455532 7.07106781]\n",
      " [4.47213595 5.47722558 3.16227766 6.32455532 3.16227766]]\n",
      "[[ 500  400  300 1200  500]\n",
      " [1000 1800  700 3200  900]]\n",
      "[[-5376172055173529600 -2101438300051996672      590490000000000\n",
      "                     0    97656250000000000]\n",
      " [                   0  1152921504606846976                    0\n",
      "                     0                    0]]\n"
     ]
    }
   ],
   "source": [
    "import numpy as np2\n",
    "arr3 = np2.array([[10,20,30,40,50],[20,30,10,40,10]])\n",
    "arr4 = np2.array([[50,20,10,30,10],[50,60,70,80,90]])\n",
    "print(arr3,arr4,)\n",
    "print(arr3*arr4)\n",
    "print(np2.exp(arr3))\n",
    "print(np2.sqrt(arr3))\n",
    "print(np2.multiply(arr3,arr4,))\n",
    "print(np2.power(arr3,arr4,))\n"
   ]
  },
  {
   "cell_type": "code",
   "execution_count": 75,
   "id": "9c964d32-8060-4adc-9616-b3db0add0666",
   "metadata": {},
   "outputs": [
    {
     "ename": "UFuncTypeError",
     "evalue": "Cannot cast ufunc 'sqrt' output from dtype('float64') to dtype('int64') with casting rule 'same_kind'",
     "output_type": "error",
     "traceback": [
      "\u001b[1;31m---------------------------------------------------------------------------\u001b[0m",
      "\u001b[1;31mUFuncTypeError\u001b[0m                            Traceback (most recent call last)",
      "Cell \u001b[1;32mIn[75], line 3\u001b[0m\n\u001b[0;32m      1\u001b[0m arr1 \u001b[38;5;241m=\u001b[39mnp\u001b[38;5;241m.\u001b[39marray([\u001b[38;5;241m2\u001b[39m,\u001b[38;5;241m4\u001b[39m,\u001b[38;5;241m5\u001b[39m,\u001b[38;5;241m6\u001b[39m])\n\u001b[0;32m      2\u001b[0m arr2 \u001b[38;5;241m=\u001b[39m np\u001b[38;5;241m.\u001b[39marray([\u001b[38;5;241m2\u001b[39m])\n\u001b[1;32m----> 3\u001b[0m \u001b[38;5;28mprint\u001b[39m(\u001b[43mnp\u001b[49m\u001b[38;5;241;43m.\u001b[39;49m\u001b[43msqrt\u001b[49m\u001b[43m(\u001b[49m\u001b[43marr1\u001b[49m\u001b[43m,\u001b[49m\u001b[43marr2\u001b[49m\u001b[43m)\u001b[49m)\n",
      "\u001b[1;31mUFuncTypeError\u001b[0m: Cannot cast ufunc 'sqrt' output from dtype('float64') to dtype('int64') with casting rule 'same_kind'"
     ]
    }
   ],
   "source": [
    "arr1 =np.array([2,4,5,6])\n",
    "arr2 = np.array([2])\n",
    "print(np.sqrt(arr1,arr2))"
   ]
  }
 ],
 "metadata": {
  "kernelspec": {
   "display_name": "Python 3 (ipykernel)",
   "language": "python",
   "name": "python3"
  },
  "language_info": {
   "codemirror_mode": {
    "name": "ipython",
    "version": 3
   },
   "file_extension": ".py",
   "mimetype": "text/x-python",
   "name": "python",
   "nbconvert_exporter": "python",
   "pygments_lexer": "ipython3",
   "version": "3.12.4"
  }
 },
 "nbformat": 4,
 "nbformat_minor": 5
}
