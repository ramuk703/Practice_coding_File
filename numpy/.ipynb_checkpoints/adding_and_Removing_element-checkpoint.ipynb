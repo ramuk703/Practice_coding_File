{
 "cells": [
  {
   "cell_type": "code",
   "execution_count": 33,
   "id": "b016bc34-b7a1-46a8-a73e-365182377d4a",
   "metadata": {},
   "outputs": [
    {
     "name": "stdout",
     "output_type": "stream",
     "text": [
      "[1 2 3 4 5 6 7 8 9]\n",
      "(array([1, 3, 5, 7]),)\n",
      "3\n"
     ]
    }
   ],
   "source": [
    "#SEARCH, SORT AND FILTER ARRAYS\n",
    "import numpy as np\n",
    "arr = np.array([1,2,3,4,5,6,7,8,9])\n",
    "print(np.sort(arr))\n",
    "print(np.where(arr%2==0))\n",
    "arr1 = np.searchsorted(arr,4)\n",
    "print(arr1)\n",
    "fltr = np.array([10,20,30,40,50])\n",
    "apply_filter=[true,true,false,true] "
   ]
  }
 ],
 "metadata": {
  "kernelspec": {
   "display_name": "Python 3 (ipykernel)",
   "language": "python",
   "name": "python3"
  },
  "language_info": {
   "codemirror_mode": {
    "name": "ipython",
    "version": 3
   },
   "file_extension": ".py",
   "mimetype": "text/x-python",
   "name": "python",
   "nbconvert_exporter": "python",
   "pygments_lexer": "ipython3",
   "version": "3.12.4"
  }
 },
 "nbformat": 4,
 "nbformat_minor": 5
}
