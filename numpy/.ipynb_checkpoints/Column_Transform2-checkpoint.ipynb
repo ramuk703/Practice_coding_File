{
 "cells": [
  {
   "cell_type": "code",
   "execution_count": 201,
   "id": "12f68db4-1a39-47dd-953b-3b2206fa2aa8",
   "metadata": {},
   "outputs": [
    {
     "name": "stdout",
     "output_type": "stream",
     "text": [
      "  First Name Last Name  Salary             UID\n",
      "0     mukesh     mahto   20000  23SUTCJHN04005\n",
      "1      ramuk     kumar   30000  23SUTCJHN04006\n",
      "2      guddu     yadav   45000  23SUTCJHN04007\n",
      "3      nidhi    kumari   60000  23SUTCJHN04008\n"
     ]
    }
   ],
   "source": [
    "import pandas as pd\n",
    "data = pd.read_excel(\"Student.xlsx\")\n",
    "print(data)"
   ]
  },
  {
   "cell_type": "code",
   "execution_count": 205,
   "id": "1f1fd6af-5d51-4631-8344-1b985f663302",
   "metadata": {},
   "outputs": [
    {
     "name": "stdout",
     "output_type": "stream",
     "text": [
      "  First Name Last Name  Salary             UID    Bonus\n",
      "0     mukesh     mahto   20000  23SUTCJHN04005   4000.0\n",
      "1      ramuk     kumar   30000  23SUTCJHN04006   6000.0\n",
      "2      guddu     yadav   45000  23SUTCJHN04007   9000.0\n",
      "3      nidhi    kumari   60000  23SUTCJHN04008  12000.0\n"
     ]
    }
   ],
   "source": [
    "data[\"Bonus\"] = (data[\"Salary\"]/100)*20\n",
    "print(data)"
   ]
  },
  {
   "cell_type": "code",
   "execution_count": 47,
   "id": "98ec6966-6b44-423c-80e1-8eb447043962",
   "metadata": {},
   "outputs": [
    {
     "name": "stdout",
     "output_type": "stream",
     "text": [
      "       Months\n",
      "0     January\n",
      "1    February\n",
      "2       March\n",
      "3       April\n",
      "4         May\n",
      "5        June\n",
      "6        July\n",
      "7      August\n",
      "8   September\n",
      "9     October\n",
      "10   November\n",
      "11   December\n"
     ]
    }
   ],
   "source": [
    "data = {\"Months\": [\"January\",\"February\",\"March\",\"April\",\"May\",\"June\",\"July\",\"August\",\"September\",\"October\",\"November\",\"December\"]}\n",
    "a = pd.DataFrame(data)\n",
    "print(a)"
   ]
  },
  {
   "cell_type": "code",
   "execution_count": 53,
   "id": "014e0fb3-f29a-45a5-94ac-bd86c73b55e9",
   "metadata": {},
   "outputs": [
    {
     "name": "stdout",
     "output_type": "stream",
     "text": [
      "       Months Short_Months\n",
      "0     January          Jan\n",
      "1    February          Feb\n",
      "2       March          Mar\n",
      "3       April          Apr\n",
      "4         May          May\n",
      "5        June          Jun\n",
      "6        July          Jul\n",
      "7      August          Aug\n",
      "8   September          Sep\n",
      "9     October          Oct\n",
      "10   November          Nov\n",
      "11   December          Dec\n"
     ]
    }
   ],
   "source": [
    "def extract(value):\n",
    "    return value[0:3]\n",
    "a[\"Short_Months\"] = a[\"Months\"].map(extract)\n",
    "print(a)"
   ]
  },
  {
   "cell_type": "code",
   "execution_count": null,
   "id": "a56a9d10-0655-4e34-a114-907f244bc736",
   "metadata": {},
   "outputs": [],
   "source": []
  }
 ],
 "metadata": {
  "kernelspec": {
   "display_name": "Python 3 (ipykernel)",
   "language": "python",
   "name": "python3"
  },
  "language_info": {
   "codemirror_mode": {
    "name": "ipython",
    "version": 3
   },
   "file_extension": ".py",
   "mimetype": "text/x-python",
   "name": "python",
   "nbconvert_exporter": "python",
   "pygments_lexer": "ipython3",
   "version": "3.12.4"
  }
 },
 "nbformat": 4,
 "nbformat_minor": 5
}
