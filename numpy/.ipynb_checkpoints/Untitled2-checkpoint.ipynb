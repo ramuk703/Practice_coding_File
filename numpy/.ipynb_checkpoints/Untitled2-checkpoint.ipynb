{
 "cells": [
  {
   "cell_type": "code",
   "execution_count": 36,
   "id": "25d46d51-cc11-47f3-b9df-05ed1ce4d761",
   "metadata": {},
   "outputs": [
    {
     "name": "stdout",
     "output_type": "stream",
     "text": [
      "[10 20 30 40 50]\n",
      "150\n",
      "10\n",
      "50\n",
      "5\n",
      "30.0\n",
      "30.0\n",
      "[ 10  30  60 100 150]\n"
     ]
    }
   ],
   "source": [
    "#Aggregating Functions\n",
    "\n",
    "import numpy as np\n",
    "arr1 = np.array([10,20,30,40,50])\n",
    "print(arr1)\n",
    "print(np.sum(arr1))\n",
    "print(np.min(arr1))\n",
    "print(np.max(arr1))\n",
    "print(np.size(arr1))\n",
    "print(np.mean(arr1))\n",
    "print(np.median(arr1))\n",
    "print(np.cumsum(arr1))"
   ]
  },
  {
   "cell_type": "code",
   "execution_count": 62,
   "id": "db94ae2e-f5d3-41c9-ba7a-30b8d789193d",
   "metadata": {},
   "outputs": [
    {
     "name": "stdout",
     "output_type": "stream",
     "text": [
      "[10 20 30 50 60] \n",
      " [70 80 90 10 40]\n",
      "\n",
      "7900\n"
     ]
    }
   ],
   "source": [
    "arr2 = [10,20,30,50,60]\n",
    "arr3 = [70,80,90,10,40]\n",
    "price = np.array(arr2)\n",
    "quantity = np.array(arr3)\n",
    "print(price,\"\\n\",quantity,)\n",
    "print()\n",
    "product = np.cumprod([price,quantity], axis = 0)\n",
    "print(product[1].sum())\n"
   ]
  }
 ],
 "metadata": {
  "kernelspec": {
   "display_name": "Python 3 (ipykernel)",
   "language": "python",
   "name": "python3"
  },
  "language_info": {
   "codemirror_mode": {
    "name": "ipython",
    "version": 3
   },
   "file_extension": ".py",
   "mimetype": "text/x-python",
   "name": "python",
   "nbconvert_exporter": "python",
   "pygments_lexer": "ipython3",
   "version": "3.12.4"
  }
 },
 "nbformat": 4,
 "nbformat_minor": 5
}
