{
 "cells": [
  {
   "cell_type": "code",
   "execution_count": null,
   "id": "12f68db4-1a39-47dd-953b-3b2206fa2aa8",
   "metadata": {},
   "outputs": [],
   "source": []
  }
 ],
 "metadata": {
  "kernelspec": {
   "display_name": "",
   "name": ""
  },
  "language_info": {
   "name": ""
  }
 },
 "nbformat": 4,
 "nbformat_minor": 5
}
