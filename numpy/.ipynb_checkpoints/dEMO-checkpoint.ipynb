{
 "cells": [
  {
   "cell_type": "code",
   "execution_count": 86,
   "id": "ce2992ee-a686-47d8-8c12-31427e8207df",
   "metadata": {},
   "outputs": [
    {
     "name": "stdout",
     "output_type": "stream",
     "text": [
      "[[34, 53, 53, 53, 34], [34, 34, 34, 34, 34]]\n",
      "2\n",
      "(2, 5)\n",
      "10\n",
      "<class 'numpy.ndarray'>\n",
      "int64\n",
      "[[34. 53. 53. 53. 34.]\n",
      " [34. 34. 34. 34. 34.]]\n",
      "[[34 53 53 53 34]\n",
      " [34 34 34 34 34]]\n",
      "[['34' '53' '53' '53' '34']\n",
      " ['34' '34' '34' '34' '34']]\n"
     ]
    },
    {
     "ename": "NameError",
     "evalue": "name 'double' is not defined",
     "output_type": "error",
     "traceback": [
      "\u001b[1;31m---------------------------------------------------------------------------\u001b[0m",
      "\u001b[1;31mNameError\u001b[0m                                 Traceback (most recent call last)",
      "Cell \u001b[1;32mIn[86], line 13\u001b[0m\n\u001b[0;32m     11\u001b[0m \u001b[38;5;28mprint\u001b[39m(arr\u001b[38;5;241m.\u001b[39mastype(\u001b[38;5;28mint\u001b[39m))\n\u001b[0;32m     12\u001b[0m \u001b[38;5;28mprint\u001b[39m(arr\u001b[38;5;241m.\u001b[39mastype(\u001b[38;5;28mstr\u001b[39m))\n\u001b[1;32m---> 13\u001b[0m \u001b[38;5;28mprint\u001b[39m(arr\u001b[38;5;241m.\u001b[39mastype(\u001b[43mdouble\u001b[49m))\n",
      "\u001b[1;31mNameError\u001b[0m: name 'double' is not defined"
     ]
    }
   ],
   "source": [
    "import numpy as ara\n",
    "a =[[34,53,53,53,34],[34,34,34,34,34]]\n",
    "arr=ara.array(a)\n",
    "print(a)\n",
    "print(len(arr))\n",
    "print(arr.shape)  # rows, columns\n",
    "print(ara.size(arr))   #number of nested value\n",
    "print(type(arr))           # \n",
    "print(arr.dtype)        # datatype of array\n",
    "print(arr.astype(float)) # conversion of data type\n",
    "print(arr.astype(int))\n",
    "print(arr.astype(str))\n"
   ]
  }
 ],
 "metadata": {
  "kernelspec": {
   "display_name": "Python 3 (ipykernel)",
   "language": "python",
   "name": "python3"
  },
  "language_info": {
   "codemirror_mode": {
    "name": "ipython",
    "version": 3
   },
   "file_extension": ".py",
   "mimetype": "text/x-python",
   "name": "python",
   "nbconvert_exporter": "python",
   "pygments_lexer": "ipython3",
   "version": "3.12.4"
  }
 },
 "nbformat": 4,
 "nbformat_minor": 5
}
