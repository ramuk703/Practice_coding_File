{
 "cells": [
  {
   "cell_type": "code",
   "execution_count": 2,
   "id": "f7ef5919-d71d-491c-ba68-1ab72887beb1",
   "metadata": {},
   "outputs": [
    {
     "name": "stdout",
     "output_type": "stream",
     "text": [
      "    Sl No.  EMP ID Name of the Student        f/name  Age  Salary\n",
      "0        1   10001         Ramuk Kumar  Govind Mahto   20   20000\n",
      "1        2   10002        Sachin Kumar           NaN   21   22774\n",
      "2        3   10003           Raj Kumar           NaN   23   23887\n",
      "3        4   10004        Mahesh Kumar           NaN   24   15177\n",
      "4        5   10005        Ramesh Kumar           NaN   23   24425\n",
      "5        6   10006        Mukesh Kumar           NaN   20   15000\n",
      "6        7   10007         Guddu Kumar           NaN   21   23488\n",
      "7        8   10008        Mukesh Kumar   Arjun Mahto   20   15000\n",
      "8        9   10001         Ramuk Kumar           NaN   20   20000\n",
      "9       10   10010        Sachin Kumar           NaN   21   21031\n",
      "10      11   10008        Mukesh Kumar           NaN   23   15000\n"
     ]
    }
   ],
   "source": [
    "import pandas as pd\n",
    "data = pd.read_excel(\"C:/Users/91957/OneDrive/Desktop/Data2.xlsx\")\n",
    "print(data)"
   ]
  },
  {
   "cell_type": "code",
   "execution_count": 4,
   "id": "6dd4e3d3-4931-4961-8ede-698833c51d13",
   "metadata": {},
   "outputs": [
    {
     "name": "stdout",
     "output_type": "stream",
     "text": [
      "0     False\n",
      "1     False\n",
      "2     False\n",
      "3     False\n",
      "4     False\n",
      "5     False\n",
      "6     False\n",
      "7     False\n",
      "8      True\n",
      "9     False\n",
      "10     True\n",
      "Name: EMP ID, dtype: bool\n"
     ]
    }
   ],
   "source": [
    "print(data[\"EMP ID\"].duplicated())"
   ]
  },
  {
   "cell_type": "code",
   "execution_count": 6,
   "id": "2127df69-2f2e-413c-b59f-858ce32d7c31",
   "metadata": {},
   "outputs": [
    {
     "name": "stdout",
     "output_type": "stream",
     "text": [
      "2\n"
     ]
    }
   ],
   "source": [
    "print(data[\"EMP ID\"].duplicated().sum())"
   ]
  },
  {
   "cell_type": "code",
   "execution_count": 8,
   "id": "3264fbdb-b6e7-4269-9d3e-d1cfcb97c33c",
   "metadata": {},
   "outputs": [
    {
     "name": "stdout",
     "output_type": "stream",
     "text": [
      "   Sl No.  EMP ID Name of the Student        f/name  Age  Salary\n",
      "0       1   10001         Ramuk Kumar  Govind Mahto   20   20000\n",
      "1       2   10002        Sachin Kumar           NaN   21   22774\n",
      "2       3   10003           Raj Kumar           NaN   23   23887\n",
      "3       4   10004        Mahesh Kumar           NaN   24   15177\n",
      "4       5   10005        Ramesh Kumar           NaN   23   24425\n",
      "5       6   10006        Mukesh Kumar           NaN   20   15000\n",
      "6       7   10007         Guddu Kumar           NaN   21   23488\n",
      "7       8   10008        Mukesh Kumar   Arjun Mahto   20   15000\n",
      "9      10   10010        Sachin Kumar           NaN   21   21031\n"
     ]
    }
   ],
   "source": [
    "print(data.drop_duplicates(\"EMP ID\"))"
   ]
  },
  {
   "cell_type": "code",
   "execution_count": null,
   "id": "01f21d2b-c65f-4c59-9d2f-5d70ab7f0924",
   "metadata": {},
   "outputs": [],
   "source": []
  }
 ],
 "metadata": {
  "kernelspec": {
   "display_name": "Python 3 (ipykernel)",
   "language": "python",
   "name": "python3"
  },
  "language_info": {
   "codemirror_mode": {
    "name": "ipython",
    "version": 3
   },
   "file_extension": ".py",
   "mimetype": "text/x-python",
   "name": "python",
   "nbconvert_exporter": "python",
   "pygments_lexer": "ipython3",
   "version": "3.12.4"
  }
 },
 "nbformat": 4,
 "nbformat_minor": 5
}
